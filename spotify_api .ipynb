{
 "cells": [
  {
   "cell_type": "code",
   "execution_count": 606,
   "metadata": {},
   "outputs": [],
   "source": [
    "import pandas as pd\n",
    "import spotipy\n",
    "from spotipy.oauth2 import SpotifyClientCredentials\n",
    "import spotipy.util as util\n",
    "import sys\n",
    "import time"
   ]
  },
  {
   "cell_type": "code",
   "execution_count": 690,
   "metadata": {},
   "outputs": [],
   "source": [
    "SPOTIPY_CLIENT_ID='bee50ef8746e41e293d2b3eaabc012dd'\n",
    "SPOTIPY_CLIENT_SECRET='a13911965b1246959864149c52a26749'\n",
    "SPOTIPY_REDIRECT_URI = \"https://jperezllo.con/callback/\"\n",
    "\n",
    "token = util.prompt_for_user_token(username,scope,client_id=SPOTIPY_CLIENT_ID\n",
    "                           ,client_secret=SPOTIPY_CLIENT_SECRET\n",
    "                           ,redirect_uri=SPOTIPY_REDIRECT_URI)"
   ]
  },
  {
   "cell_type": "code",
   "execution_count": 11,
   "metadata": {},
   "outputs": [],
   "source": [
    "auth_manager = SpotifyClientCredentials(client_id = SPOTIPY_CLIENT_ID, client_secret = SPOTIPY_CLIENT_SECRET)\n",
    "sp = spotipy.Spotify(auth_manager=auth_manager)"
   ]
  },
  {
   "cell_type": "code",
   "execution_count": 696,
   "metadata": {},
   "outputs": [],
   "source": [
    "scope = 'user-top-read'\n",
    "\n",
    "sp = spotipy.Spotify(auth=token)\n",
    "results = sp.current_user_top_tracks()\n",
    "tracks = results['items']\n",
    "\n",
    "while results['next']:\n",
    "    results = sp.next(results)\n",
    "    tracks.extend(results['items'])\n",
    "\n",
    "my_top_songs = [tracks[item]['name'] for item in range(0, len(tracks))]\n",
    "    "
   ]
  },
  {
   "cell_type": "code",
   "execution_count": 714,
   "metadata": {},
   "outputs": [],
   "source": [
    "scope = 'playlist-read-private'\n",
    "\n",
    "token = util.prompt_for_user_token(username,scope,client_id=SPOTIPY_CLIENT_ID\n",
    "                           ,client_secret=SPOTIPY_CLIENT_SECRET\n",
    "                           ,redirect_uri=SPOTIPY_REDIRECT_URI)\n",
    "\n",
    "sp = spotipy.Spotify(auth=token)\n",
    "results = sp.current_user_playlists(limit=50)\n",
    "playlists = results['items']\n",
    "while results['next']:\n",
    "    results = sp.next(results)\n",
    "    playlists.extend(results['items'])\n",
    "\n",
    "my_playlists =[playlists[item]['name'] for item in range(0, len(playlists))]\n"
   ]
  },
  {
   "cell_type": "markdown",
   "metadata": {},
   "source": [
    "### Getting all artists id on my JP playlist"
   ]
  },
  {
   "cell_type": "code",
   "execution_count": 12,
   "metadata": {},
   "outputs": [],
   "source": [
    "jp_id = '3FInOSJaKv5QzLQrd3lCgA'"
   ]
  },
  {
   "cell_type": "code",
   "execution_count": 69,
   "metadata": {},
   "outputs": [],
   "source": [
    "chill_out = '00X3SYeYrgAdtgrKt8QzsJ'"
   ]
  },
  {
   "cell_type": "code",
   "execution_count": 266,
   "metadata": {},
   "outputs": [],
   "source": [
    "my_playlists = sp.user_playlists('perezllo', limit = 10)"
   ]
  },
  {
   "cell_type": "markdown",
   "metadata": {},
   "source": [
    "https://stackoverflow.com/questions/39086287/spotipy-how-to-read-more-than-100-tracks-from-a-playlist"
   ]
  },
  {
   "cell_type": "code",
   "execution_count": 712,
   "metadata": {},
   "outputs": [],
   "source": [
    "#def get_playlists(username):\n",
    "   # my_playlists = sp.user_playlists('perezllo')['items']\n",
    "   # playlist_id = []\n",
    "   # for number in range(0, len(my_playlists)):\n",
    "        #playlist_id[my_playlists[number]['name']] = my_playlists[number]['id']\n",
    "        #playlist_id.append(my_playlists[number]['id'])\n",
    "    #return playlist_id\n",
    "\n",
    "\n",
    "def get_playlists():\n",
    "    token = util.prompt_for_user_token(username,scope,client_id=SPOTIPY_CLIENT_ID\n",
    "                               ,client_secret=SPOTIPY_CLIENT_SECRET\n",
    "                               ,redirect_uri=SPOTIPY_REDIRECT_URI)\n",
    "\n",
    "    sp = spotipy.Spotify(auth=token)\n",
    "    results = sp.current_user_playlists(limit=50)\n",
    "    playlists = results['items']\n",
    "    while results['next']:\n",
    "        results = sp.next(results)\n",
    "        playlists.extend(results['items'])\n",
    "\n",
    "    my_playlists =[playlists[item]['id'] for item in range(0, len(playlists))]\n",
    "    return my_playlists"
   ]
  },
  {
   "cell_type": "code",
   "execution_count": 512,
   "metadata": {},
   "outputs": [],
   "source": [
    "def playlist_tracks(playlist_id):\n",
    "    results = sp.playlist_tracks(playlist_id)\n",
    "    tracks = results['items']\n",
    "    track_info = {}\n",
    "    while results['next']:\n",
    "        results = sp.next(results)\n",
    "        tracks.extend(results['items'])\n",
    "    for item in range(0, len(tracks)):\n",
    "        track_info[tracks[item]['track']['name']]={\"id\":tracks[item]['track']['id']}\n",
    "    return track_info"
   ]
  },
  {
   "cell_type": "code",
   "execution_count": 573,
   "metadata": {},
   "outputs": [],
   "source": [
    "def get_playlist_tracks(playlist_id):\n",
    "    results = sp.playlist_tracks(playlist_id)\n",
    "    tracks = results['items']\n",
    "    track_info = {}\n",
    "    errors = []\n",
    "    while results['next']:\n",
    "        results = sp.next(results)\n",
    "        tracks.extend(results['items'])\n",
    "        \n",
    "    for item in range(0, len(tracks)):\n",
    "        \n",
    "        track_id = tracks[item]['track']['id']\n",
    "        keys_to_remove =[\"type\", \"uri\", \"track_href\",\"analysis_url\", \"time_signature\",\"id\"]\n",
    "        audio_features =  sp.audio_features(track_id)\n",
    "        audio_features = audio_features[0]\n",
    "        for key in keys_to_remove:\n",
    "            try: \n",
    "                audio_features.pop(key, None)\n",
    "            except:\n",
    "                pass\n",
    "        track_info[tracks[item]['track']['name']] = {\"id\":track_id}\n",
    "        try:\n",
    "            track_info[tracks[item]['track']['name']].update(audio_features)\n",
    "        except:\n",
    "            pass\n",
    "    return  track_info\n"
   ]
  },
  {
   "cell_type": "code",
   "execution_count": 562,
   "metadata": {},
   "outputs": [],
   "source": [
    "restuls = sp.playlist_tracks('5U2MYFAcQ3yT7XbHYgGPmb')"
   ]
  },
  {
   "cell_type": "code",
   "execution_count": 574,
   "metadata": {},
   "outputs": [],
   "source": [
    "s = get_playlist_tracks('5U2MYFAcQ3yT7XbHYgGPmb')"
   ]
  },
  {
   "cell_type": "code",
   "execution_count": 588,
   "metadata": {},
   "outputs": [],
   "source": [
    "def get_all_track_info(username):\n",
    "    playlists = get_playlists(username)\n",
    "    full_tracks = {}\n",
    "    for playlist_id in playlists: \n",
    "        full_tracks.update(get_playlist_tracks(playlist_id))\n",
    "    return pd.DataFrame.from_dict(full_tracks, orient='index')\n",
    "        \n",
    "        \n",
    "        \n",
    "        "
   ]
  },
  {
   "cell_type": "code",
   "execution_count": 589,
   "metadata": {},
   "outputs": [],
   "source": [
    "result = get_all_track_info('perezllo')"
   ]
  },
  {
   "cell_type": "markdown",
   "metadata": {},
   "source": [
    "### Returning names of related artiststs"
   ]
  },
  {
   "cell_type": "code",
   "execution_count": null,
   "metadata": {},
   "outputs": [],
   "source": [
    "def get_related_artists(artist_id):\n",
    "    results = sp.artist_related_artists(artist_id)\n",
    "    artists = results['artists']\n",
    "    while results['next']:\n",
    "        results = sp.next(results)\n",
    "        tracks.extend(results['items'])\n",
    "        artists_id = [item['track']['artists'][0]['id'] for item in tracks]\n",
    "    return artists_id"
   ]
  },
  {
   "cell_type": "code",
   "execution_count": 64,
   "metadata": {},
   "outputs": [],
   "source": [
    "related_artists = sp.artist_related_artists('2hazSY4Ef3aB9ATXW7F5w3')"
   ]
  },
  {
   "cell_type": "code",
   "execution_count": 206,
   "metadata": {},
   "outputs": [],
   "source": [
    "def related_artists_id(artists_id_list):\n",
    "    # for artist_id in artist_id_list:\n",
    "    related_artists = []\n",
    "    related_artists_id = []\n",
    "    \n",
    "    for artist_id in artists_id_list: \n",
    "        related_artists.append(sp.artist_related_artists(artist_id))\n",
    "    \n",
    "    for n_1 in range(0, len(related_artists)):\n",
    "        for n_2 in range(0, len(related_artists[n_1]['artists'])):\n",
    "            if related_artists[n_1]['artists'][n_2]['name'] not in related_artists_id: \n",
    "                related_artists_id.append(related_artists[n_1]['artists'][n_2]['id'])\n",
    "            else: \n",
    "                pass\n",
    "            \n",
    "            \n",
    "    return related_artists_id\n",
    "        \n",
    "  #  return len(related_artists) # related_artists_id\n",
    "                "
   ]
  },
  {
   "cell_type": "code",
   "execution_count": 207,
   "metadata": {},
   "outputs": [],
   "source": [
    "related_artists_id = related_artists_id(artist_id)"
   ]
  }
 ],
 "metadata": {
  "kernelspec": {
   "display_name": "Python 3 (ipykernel)",
   "language": "python",
   "name": "python3"
  },
  "language_info": {
   "codemirror_mode": {
    "name": "ipython",
    "version": 3
   },
   "file_extension": ".py",
   "mimetype": "text/x-python",
   "name": "python",
   "nbconvert_exporter": "python",
   "pygments_lexer": "ipython3",
   "version": "3.11.0"
  }
 },
 "nbformat": 4,
 "nbformat_minor": 4
}
