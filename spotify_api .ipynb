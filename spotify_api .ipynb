{
 "cells": [
  {
   "cell_type": "code",
   "execution_count": 4,
   "metadata": {},
   "outputs": [],
   "source": [
    "import pandas as pd\n",
    "import spotipy\n",
    "from spotipy.oauth2 import SpotifyClientCredentials, SpotifyOAuth\n",
    "import spotipy.util as util\n",
    "import sys\n",
    "import time\n",
    "import numpy as np\n",
    "from collections import defaultdict\n",
    "from credential import secrets"
   ]
  },
  {
   "cell_type": "code",
   "execution_count": 5,
   "metadata": {},
   "outputs": [],
   "source": [
    "#Save credential from .py field\n",
    "# The two first are essential for extracting general information\n",
    "SPOTIPY_CLIENT_ID=secrets.get('SPOTIPY_CLIENT_ID')\n",
    "SPOTIPY_CLIENT_SECRET=secrets.get('SPOTIPY_CLIENT_SECRET')\n",
    "#The indirect URI is used to extarct information from a personal account with more detail (ex: user_top_tracks)\n",
    "SPOTIPY_REDIRECT_URI =secrets.get('SPOTIPY_REDIRECT_URI')\n",
    "username =secrets.get('username')"
   ]
  },
  {
   "cell_type": "code",
   "execution_count": 3,
   "metadata": {},
   "outputs": [],
   "source": [
    "auth_manager = SpotifyClientCredentials(client_id = SPOTIPY_CLIENT_ID, client_secret = SPOTIPY_CLIENT_SECRET)\n",
    "sp = spotipy.Spotify(auth_manager=auth_manager)"
   ]
  },
  {
   "cell_type": "code",
   "execution_count": 72,
   "metadata": {},
   "outputs": [
    {
     "name": "stdout",
     "output_type": "stream",
     "text": [
      "Enter the URL you were redirected to: https://jperezllo.con/callback/?code=AQCWwpVPoq6WvMXrgLaVk0ZgsDOUwIKL06VLy3h3h1foPW_jCWvNRjA_pnQba-PQ3xnqxYEv1wpxJN0N31pZZW9lTQSHcypGz8YIl45Mue_G_qG7a8HGaKCsQxWqZrs2u8-NFUl69XXTxI97_i9lmH2Fx-8AWe2Hn25EHeIyd5f-spocfy0Pf4ithK9j6hSHzO0\n"
     ]
    }
   ],
   "source": [
    "# The scope is what determines the request we can execute. In this case the I'm using the \"user-top-read\" \n",
    "# because I want to extract the songs I've listened to the most\n",
    "scope = 'user-top-read'\n",
    "#Another peculiarity of this request is that it requires a token, unlike the general requests we can execute\n",
    "# with basic credentials\n",
    "token = util.prompt_for_user_token(username,scope,client_id=SPOTIPY_CLIENT_ID\n",
    "                           ,client_secret=SPOTIPY_CLIENT_SECRET\n",
    "                           ,redirect_uri=SPOTIPY_REDIRECT_URI)\n",
    "\n",
    "sp = spotipy.Spotify(auth=token)\n",
    "results = sp.current_user_top_tracks()\n",
    "tracks = results['items']\n",
    "\n",
    "while results['next']:\n",
    "    results = sp.next(results)\n",
    "    tracks.extend(results['items'])\n",
    "\n",
    "my_top_songs = [tracks[item]['name'] for item in range(0, len(tracks))]\n",
    "    "
   ]
  },
  {
   "cell_type": "code",
   "execution_count": 76,
   "metadata": {},
   "outputs": [
    {
     "name": "stdout",
     "output_type": "stream",
     "text": [
      "Enter the URL you were redirected to: https://jperezllo.con/callback/?code=AQC5RDkKD--tBdD4AHRajD9f13X25aF4-67cDVAvnAoJNCjcuK2q03Qrcw4qUKiRtstEI_4N_Vhrnkt2B6TfUkcVG7-fVcV7eC5444VYCo3YFyJ7XcamJy6HINlaySM87mELXU8QP_FV3rsa-45ZS7BU_nfD3o0nkgD0HxrPdw7YDNQv9XA87NgVrWcaukv_2mZGp0z1Skk2eQ\n"
     ]
    }
   ],
   "source": [
    "#In this case I use the \"playlsit-read-private\" scope to get information from all my playlists, \n",
    "#those I follow and those I created\n",
    "scope = 'playlist-read-private'\n",
    "\n",
    "token = util.prompt_for_user_token(username,scope,client_id=SPOTIPY_CLIENT_ID\n",
    "                           ,client_secret=SPOTIPY_CLIENT_SECRET\n",
    "                           ,redirect_uri=SPOTIPY_REDIRECT_URI)\n",
    "\n",
    "sp = spotipy.Spotify(auth=token)\n",
    "results = sp.current_user_playlists(limit=50)\n",
    "playlists = results['items']\n",
    "while results['next']:\n",
    "    results = sp.next(results)\n",
    "    playlists.extend(results['items'])\n",
    "\n",
    "my_playlists =[playlists[item]['name'] for item in range(0, len(playlists))]\n",
    "\n",
    "#I want to make a more accurate Spotify Wrangler and there a re some playlsits I neve heard or that my family uses\n",
    "# so I want to ignore them for my analysis\n",
    "ignore_playlists = ['This Is RIOPY', '2022', 'Sons of The East Radio',\n",
    "                    'Life Is  Wonderful', 'Acoustic Chill', 'Acoustic Pop Hits']\n",
    "\n",
    "my_playlists = [playlist for playlist in my_playlists if playlist not in ignore_playlists]"
   ]
  },
  {
   "cell_type": "markdown",
   "metadata": {},
   "source": [
    "### Getting all artists id on my JP playlist"
   ]
  },
  {
   "cell_type": "code",
   "execution_count": 266,
   "metadata": {},
   "outputs": [],
   "source": [
    "my_playlists = sp.user_playlists('perezllo', limit = 10)"
   ]
  },
  {
   "cell_type": "markdown",
   "metadata": {},
   "source": [
    "https://stackoverflow.com/questions/39086287/spotipy-how-to-read-more-than-100-tracks-from-a-playlist"
   ]
  },
  {
   "cell_type": "code",
   "execution_count": 46,
   "metadata": {},
   "outputs": [],
   "source": [
    "#def get_playlists(username):\n",
    "   # my_playlists = sp.user_playlists('perezllo')['items']\n",
    "   # playlist_id = []\n",
    "   # for number in range(0, len(my_playlists)):\n",
    "        #playlist_id[my_playlists[number]['name']] = my_playlists[number]['id']\n",
    "        #playlist_id.append(my_playlists[number]['id'])\n",
    "    #return playlist_id\n",
    "    \n",
    "scope = 'playlist-read-private'\n",
    "# Function to extract all my playlists\n",
    "def get_playlists(username):\n",
    "    token = util.prompt_for_user_token(username,scope,client_id=SPOTIPY_CLIENT_ID\n",
    "                               ,client_secret=SPOTIPY_CLIENT_SECRET\n",
    "                               ,redirect_uri=SPOTIPY_REDIRECT_URI)\n",
    "\n",
    "    sp = spotipy.Spotify(auth=token)\n",
    "    results = sp.current_user_playlists(limit=50)\n",
    "    playlists = results['items']\n",
    "    ignore_playlists = ['This Is RIOPY', '2022', 'Sons of The East Radio',\n",
    "                    'Life Is  Wonderful', 'Acoustic Chill', 'Acoustic Pop Hits']\n",
    "    \n",
    "    while results['next']:\n",
    "        results = sp.next(results)\n",
    "        playlists.extend(results['items'])\n",
    "        my_playlists = [playlist for playlist in my_playlists if playlist not in ignore_playlists]\n",
    "        \n",
    "    my_playlists =[playlists[item]['id'] for item in range(0, len(playlists))]\n",
    "    return my_playlists"
   ]
  },
  {
   "cell_type": "code",
   "execution_count": 42,
   "metadata": {},
   "outputs": [],
   "source": [
    "#Onec I have my playlsits and their ID I can extract the tracks id that comprise them\n",
    "def playlist_tracks(playlist_id):\n",
    "    #I first need to get the playlsit tracks using sp.playlist_tracks(playlist_id) which will return a dicitionary\n",
    "    results = sp.playlist_tracks(playlist_id)\n",
    "    #In the \"items\" key we have all the tracks stored, and that what needs to be used\n",
    "    tracks = results['items']\n",
    "    #I want to create a dicitonary with the name of the track as the key and its ID as the value to then create a DF\n",
    "    track_info = {}\n",
    "    #Spotipy has a limit of 20 results per request, but this can be solved by using the \"Next\" key inside the dicitionary.\n",
    "    # This will allow us to keep extarcting results until we have all of them\n",
    "    while results['next']:\n",
    "        results = sp.next(results)\n",
    "        tracks.extend(results['items'])\n",
    "    for item in range(0, len(tracks)):\n",
    "        track_info[tracks[item]['track']['name']]={\"id\":tracks[item]['track']['id']}\n",
    "    return track_info"
   ]
  },
  {
   "cell_type": "code",
   "execution_count": 43,
   "metadata": {},
   "outputs": [],
   "source": [
    "#Onec I have my playlsits and their ID I can extract the tracks id that comprise them\n",
    "def get_playlist_tracks(playlist_id):\n",
    "    #I first need to get the playlsit tracks using sp.playlist_tracks(playlist_id) which will return a dicitionary\n",
    "    results = sp.playlist_tracks(playlist_id)\n",
    "    #In the \"items\" key we have all the tracks stored, and that what needs to be used\n",
    "    tracks = results['items']\n",
    "    #I want to create a dicitonary with the name of the track as the key and its ID as the value to then create a DF\n",
    "    track_info = {}\n",
    "    #Spotipy has a limit of 20 results per request, but this can be solved by using the \"Next\" key inside the dicitionary.\n",
    "    # This will allow us to keep extarcting results until we have all of them\n",
    "    while results['next']:\n",
    "        results = sp.next(results)\n",
    "        tracks.extend(results['items'])\n",
    "     #I also want to extract the audio characteristics of each song, information I can get using sp.audio_features(track_id)\n",
    "    #I have all the tracks stored in the tracks list and I can iterate through it to get what I need. \n",
    "    # I use a range in the for loop beacuse I need to iterate thorugh all items in the dicitionary\n",
    "    for item in range(0, len(tracks)):\n",
    "        #I extract the track_id\n",
    "        track_id = tracks[item]['track']['id']\n",
    "        #sp.audio_features will return a dicitonary with some unnecessary information than can be discarded\n",
    "        keys_to_remove =[\"type\", \"uri\", \"track_href\",\"analysis_url\", \"time_signature\",\"id\"]\n",
    "        #Applying sp.audio_features to each track\n",
    "        audio_features =  sp.audio_features(track_id)\n",
    "        audio_features = audio_features[0]\n",
    "        #Remove unnecessary fields \n",
    "        for key in keys_to_remove:\n",
    "            try: \n",
    "                audio_features.pop(key, None)\n",
    "            except:\n",
    "                pass\n",
    "        #Add track_name as the key and create another dicitonary where to store all the information, startin with the ID\n",
    "        track_info[tracks[item]['track']['name']] = {\"id\":track_id}\n",
    "        try:\n",
    "            #Add audio features to the dicitionary containing the information of each track\n",
    "            track_info[tracks[item]['track']['name']].update(audio_features)\n",
    "        except:\n",
    "            pass\n",
    "    return  track_info\n"
   ]
  },
  {
   "cell_type": "code",
   "execution_count": 74,
   "metadata": {},
   "outputs": [],
   "source": [
    "def get_all_track_info(username):\n",
    "    playlists = get_playlists(username)\n",
    "    full_tracks = {}\n",
    "    for playlist_id in playlists: \n",
    "        full_tracks.update(get_playlist_tracks(playlist_id))\n",
    "    results = pd.DataFrame.from_dict(full_tracks, orient='index')\n",
    "    return results\n",
    "        \n",
    "        "
   ]
  },
  {
   "cell_type": "code",
   "execution_count": 78,
   "metadata": {},
   "outputs": [],
   "source": [
    "result = get_all_track_info('perezllo')"
   ]
  },
  {
   "cell_type": "code",
   "execution_count": 81,
   "metadata": {},
   "outputs": [],
   "source": [
    "result = result.reset_index()"
   ]
  },
  {
   "cell_type": "code",
   "execution_count": 83,
   "metadata": {},
   "outputs": [],
   "source": [
    "result_s = result.rename(columns={'index':'track'})"
   ]
  },
  {
   "cell_type": "code",
   "execution_count": 85,
   "metadata": {},
   "outputs": [],
   "source": [
    "#I'm identifying my top songs to give more detail to my analysis and Spotify Wrapper\n",
    "result_s['top-track'] = result_s['track'].isin(my_top_songs)"
   ]
  },
  {
   "cell_type": "code",
   "execution_count": 88,
   "metadata": {},
   "outputs": [],
   "source": [
    "result_s.to_csv('data\\\\result_s.csv')"
   ]
  },
  {
   "cell_type": "code",
   "execution_count": 96,
   "metadata": {},
   "outputs": [],
   "source": [
    "#The lat piece information I need for my analysis is related to the artists of my tracks\n",
    "#I'm going to create an empty dictionary using the defaultdict() class from the collections module.\n",
    "#This will help keeping all results and not overwrite exisiting ones because one track cna have more than one artist I want\n",
    "#to get all of them\n",
    "track_genres = defaultdict(list)\n",
    "#I start by using the 'id' column from my recently created dataframe\n",
    "for track_id in data['id']:\n",
    "    #We get the basic information from each artists involved with the track.\n",
    "    #Important! If a track has more that one artists involved the results will be returned in a list of dicitonaries\n",
    "    #so I need to use a for loop to iterate through the entire list\n",
    "    artists = sp.track(track_id)['artists']\n",
    "    #Again, I use a range to make sure I iterate through alll items(artists) in the list\n",
    "    for item in range(0, len(artists)):\n",
    "        #Extract the id \n",
    "        artist_id = artists[item]['id']\n",
    "        #Extract all information froma artist using sp.artist(artist_id)\n",
    "        artist_info = sp.artist(artist_id)\n",
    "        #Fill track_genres dictionary with the artists information inside a dicitonary as the value and the track_id as the key\n",
    "        track_genres[track_id].append({'artist':artist_info['name'],\n",
    "                                            'artist_id': artist_info['id'],\n",
    "                                            'genres':artist_info['genres'],\n",
    "                                            'track_id': track_id,\n",
    "                                            'popularity':artist_info['popularity']})\n",
    "        \n",
    "    "
   ]
  },
  {
   "cell_type": "code",
   "execution_count": 125,
   "metadata": {},
   "outputs": [],
   "source": [
    "df_list = []\n",
    "for key, value in track_genres.items():\n",
    "    for v in value:\n",
    "        df_list.append(v)\n",
    "\n",
    "df = pd.DataFrame(df_list)"
   ]
  },
  {
   "cell_type": "code",
   "execution_count": 128,
   "metadata": {},
   "outputs": [],
   "source": [
    "artists_df = df.explode('genres')"
   ]
  },
  {
   "cell_type": "code",
   "execution_count": 130,
   "metadata": {},
   "outputs": [],
   "source": [
    "artists_df.to_csv('data\\\\artists.csv')"
   ]
  },
  {
   "cell_type": "markdown",
   "metadata": {},
   "source": [
    "#### Returning names of related artiststs"
   ]
  },
  {
   "cell_type": "code",
   "execution_count": null,
   "metadata": {},
   "outputs": [],
   "source": [
    "def get_related_artists(artist_id):\n",
    "    results = sp.artist_related_artists(artist_id)\n",
    "    artists = results['artists']\n",
    "    while results['next']:\n",
    "        results = sp.next(results)\n",
    "        tracks.extend(results['items'])\n",
    "        artists_id = [item['track']['artists'][0]['id'] for item in tracks]\n",
    "    return artists_id"
   ]
  },
  {
   "cell_type": "code",
   "execution_count": 64,
   "metadata": {},
   "outputs": [],
   "source": [
    "related_artists = sp.artist_related_artists('2hazSY4Ef3aB9ATXW7F5w3')"
   ]
  },
  {
   "cell_type": "code",
   "execution_count": 206,
   "metadata": {},
   "outputs": [],
   "source": [
    "def related_artists_id(artists_id_list):\n",
    "    # for artist_id in artist_id_list:\n",
    "    related_artists = []\n",
    "    related_artists_id = []\n",
    "    \n",
    "    for artist_id in artists_id_list: \n",
    "        related_artists.append(sp.artist_related_artists(artist_id))\n",
    "    \n",
    "    for n_1 in range(0, len(related_artists)):\n",
    "        for n_2 in range(0, len(related_artists[n_1]['artists'])):\n",
    "            if related_artists[n_1]['artists'][n_2]['name'] not in related_artists_id: \n",
    "                related_artists_id.append(related_artists[n_1]['artists'][n_2]['id'])\n",
    "            else: \n",
    "                pass\n",
    "            \n",
    "            \n",
    "    return related_artists_id\n",
    "        \n",
    "  #  return len(related_artists) # related_artists_id\n",
    "                "
   ]
  },
  {
   "cell_type": "code",
   "execution_count": 207,
   "metadata": {},
   "outputs": [],
   "source": [
    "related_artists_id = related_artists_id(artist_id)"
   ]
  }
 ],
 "metadata": {
  "kernelspec": {
   "display_name": "Python 3 (ipykernel)",
   "language": "python",
   "name": "python3"
  },
  "language_info": {
   "codemirror_mode": {
    "name": "ipython",
    "version": 3
   },
   "file_extension": ".py",
   "mimetype": "text/x-python",
   "name": "python",
   "nbconvert_exporter": "python",
   "pygments_lexer": "ipython3",
   "version": "3.9.13"
  }
 },
 "nbformat": 4,
 "nbformat_minor": 4
}
