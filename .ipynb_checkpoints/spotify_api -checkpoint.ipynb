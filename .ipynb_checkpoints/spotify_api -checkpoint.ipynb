{
 "cells": [
  {
   "cell_type": "code",
   "execution_count": 606,
   "metadata": {},
   "outputs": [],
   "source": [
    "import pandas as pd\n",
    "import spotipy\n",
    "from spotipy.oauth2 import SpotifyClientCredentials\n",
    "import spotipy.util as util\n",
    "import sys\n",
    "import time"
   ]
  },
  {
   "cell_type": "code",
   "execution_count": 690,
   "metadata": {},
   "outputs": [],
   "source": [
    "SPOTIPY_CLIENT_ID='bee50ef8746e41e293d2b3eaabc012dd'\n",
    "SPOTIPY_CLIENT_SECRET='a13911965b1246959864149c52a26749'\n",
    "SPOTIPY_REDIRECT_URI = \"https://jperezllo.con/callback/\"\n",
    "\n",
    "token = util.prompt_for_user_token(username,scope,client_id=SPOTIPY_CLIENT_ID\n",
    "                           ,client_secret=SPOTIPY_CLIENT_SECRET\n",
    "                           ,redirect_uri=SPOTIPY_REDIRECT_URI)"
   ]
  },
  {
   "cell_type": "code",
   "execution_count": 11,
   "metadata": {},
   "outputs": [],
   "source": [
    "auth_manager = SpotifyClientCredentials(client_id = SPOTIPY_CLIENT_ID, client_secret = SPOTIPY_CLIENT_SECRET)\n",
    "sp = spotipy.Spotify(auth_manager=auth_manager)"
   ]
  },
  {
   "cell_type": "code",
   "execution_count": 696,
   "metadata": {},
   "outputs": [],
   "source": [
    "scope = 'user-top-read'\n",
    "\n",
    "sp = spotipy.Spotify(auth=token)\n",
    "results = sp.current_user_top_tracks()\n",
    "tracks = results['items']\n",
    "\n",
    "while results['next']:\n",
    "    results = sp.next(results)\n",
    "    tracks.extend(results['items'])\n",
    "\n",
    "my_top_songs = [tracks[item]['name'] for item in range(0, len(tracks))]\n",
    "    "
   ]
  },
  {
   "cell_type": "code",
   "execution_count": 714,
   "metadata": {},
   "outputs": [],
   "source": [
    "scope = 'playlist-read-private'\n",
    "\n",
    "token = util.prompt_for_user_token(username,scope,client_id=SPOTIPY_CLIENT_ID\n",
    "                           ,client_secret=SPOTIPY_CLIENT_SECRET\n",
    "                           ,redirect_uri=SPOTIPY_REDIRECT_URI)\n",
    "\n",
    "sp = spotipy.Spotify(auth=token)\n",
    "results = sp.current_user_playlists(limit=50)\n",
    "playlists = results['items']\n",
    "while results['next']:\n",
    "    results = sp.next(results)\n",
    "    playlists.extend(results['items'])\n",
    "\n",
    "my_playlists =[playlists[item]['name'] for item in range(0, len(playlists))]\n"
   ]
  },
  {
   "cell_type": "markdown",
   "metadata": {},
   "source": [
    "### Getting all artists id on my JP playlist"
   ]
  },
  {
   "cell_type": "code",
   "execution_count": 12,
   "metadata": {},
   "outputs": [],
   "source": [
    "jp_id = '3FInOSJaKv5QzLQrd3lCgA'"
   ]
  },
  {
   "cell_type": "code",
   "execution_count": 69,
   "metadata": {},
   "outputs": [],
   "source": [
    "chill_out = '00X3SYeYrgAdtgrKt8QzsJ'"
   ]
  },
  {
   "cell_type": "code",
   "execution_count": 266,
   "metadata": {},
   "outputs": [],
   "source": [
    "my_playlists = sp.user_playlists('perezllo', limit = 10)"
   ]
  },
  {
   "cell_type": "markdown",
   "metadata": {},
   "source": [
    "https://stackoverflow.com/questions/39086287/spotipy-how-to-read-more-than-100-tracks-from-a-playlist"
   ]
  },
  {
   "cell_type": "code",
   "execution_count": 712,
   "metadata": {},
   "outputs": [],
   "source": [
    "#def get_playlists(username):\n",
    "   # my_playlists = sp.user_playlists('perezllo')['items']\n",
    "   # playlist_id = []\n",
    "   # for number in range(0, len(my_playlists)):\n",
    "        #playlist_id[my_playlists[number]['name']] = my_playlists[number]['id']\n",
    "        #playlist_id.append(my_playlists[number]['id'])\n",
    "    #return playlist_id\n",
    "\n",
    "\n",
    "def get_playlists():\n",
    "    token = util.prompt_for_user_token(username,scope,client_id=SPOTIPY_CLIENT_ID\n",
    "                               ,client_secret=SPOTIPY_CLIENT_SECRET\n",
    "                               ,redirect_uri=SPOTIPY_REDIRECT_URI)\n",
    "\n",
    "    sp = spotipy.Spotify(auth=token)\n",
    "    results = sp.current_user_playlists(limit=50)\n",
    "    playlists = results['items']\n",
    "    while results['next']:\n",
    "        results = sp.next(results)\n",
    "        playlists.extend(results['items'])\n",
    "\n",
    "    my_playlists =[playlists[item]['id'] for item in range(0, len(playlists))]\n",
    "    return my_playlists"
   ]
  },
  {
   "cell_type": "code",
   "execution_count": 512,
   "metadata": {},
   "outputs": [],
   "source": [
    "def playlist_tracks(playlist_id):\n",
    "    results = sp.playlist_tracks(playlist_id)\n",
    "    tracks = results['items']\n",
    "    track_info = {}\n",
    "    while results['next']:\n",
    "        results = sp.next(results)\n",
    "        tracks.extend(results['items'])\n",
    "    for item in range(0, len(tracks)):\n",
    "        track_info[tracks[item]['track']['name']]={\"id\":tracks[item]['track']['id']}\n",
    "    return track_info"
   ]
  },
  {
   "cell_type": "code",
   "execution_count": 573,
   "metadata": {},
   "outputs": [],
   "source": [
    "def get_playlist_tracks(playlist_id):\n",
    "    results = sp.playlist_tracks(playlist_id)\n",
    "    tracks = results['items']\n",
    "    track_info = {}\n",
    "    errors = []\n",
    "    while results['next']:\n",
    "        results = sp.next(results)\n",
    "        tracks.extend(results['items'])\n",
    "        \n",
    "    for item in range(0, len(tracks)):\n",
    "        \n",
    "        track_id = tracks[item]['track']['id']\n",
    "        keys_to_remove =[\"type\", \"uri\", \"track_href\",\"analysis_url\", \"time_signature\",\"id\"]\n",
    "        audio_features =  sp.audio_features(track_id)\n",
    "        audio_features = audio_features[0]\n",
    "        for key in keys_to_remove:\n",
    "            try: \n",
    "                audio_features.pop(key, None)\n",
    "            except:\n",
    "                pass\n",
    "        track_info[tracks[item]['track']['name']] = {\"id\":track_id}\n",
    "        try:\n",
    "            track_info[tracks[item]['track']['name']].update(audio_features)\n",
    "        except:\n",
    "            pass\n",
    "    return  track_info\n"
   ]
  },
  {
   "cell_type": "code",
   "execution_count": 562,
   "metadata": {},
   "outputs": [],
   "source": [
    "restuls = sp.playlist_tracks('5U2MYFAcQ3yT7XbHYgGPmb')"
   ]
  },
  {
   "cell_type": "code",
   "execution_count": 574,
   "metadata": {},
   "outputs": [],
   "source": [
    "s = get_playlist_tracks('5U2MYFAcQ3yT7XbHYgGPmb')"
   ]
  },
  {
   "cell_type": "code",
   "execution_count": 588,
   "metadata": {},
   "outputs": [],
   "source": [
    "def get_all_track_info(username):\n",
    "    playlists = get_playlists(username)\n",
    "    full_tracks = {}\n",
    "    for playlist_id in playlists: \n",
    "        full_tracks.update(get_playlist_tracks(playlist_id))\n",
    "    return pd.DataFrame.from_dict(full_tracks, orient='index')\n",
    "        \n",
    "        \n",
    "        \n",
    "        "
   ]
  },
  {
   "cell_type": "code",
   "execution_count": 589,
   "metadata": {},
   "outputs": [],
   "source": [
    "result = get_all_track_info('perezllo')"
   ]
  },
  {
   "cell_type": "code",
   "execution_count": 595,
   "metadata": {},
   "outputs": [
    {
     "name": "stderr",
     "output_type": "stream",
     "text": [
      "HTTP Error for GET to https://api.spotify.com/v1/me/ with Params: {} returned 401 due to Unauthorized.\n"
     ]
    },
    {
     "ename": "SpotifyException",
     "evalue": "http status: 401, code:-1 - https://api.spotify.com/v1/me/:\n Unauthorized., reason: None",
     "output_type": "error",
     "traceback": [
      "\u001b[1;31m---------------------------------------------------------------------------\u001b[0m",
      "\u001b[1;31mHTTPError\u001b[0m                                 Traceback (most recent call last)",
      "File \u001b[1;32m~\\anaconda3\\envs\\mydataprojects\\Lib\\site-packages\\spotipy\\client.py:245\u001b[0m, in \u001b[0;36mSpotify._internal_call\u001b[1;34m(self, method, url, payload, params)\u001b[0m\n\u001b[0;32m    240\u001b[0m response \u001b[38;5;241m=\u001b[39m \u001b[38;5;28mself\u001b[39m\u001b[38;5;241m.\u001b[39m_session\u001b[38;5;241m.\u001b[39mrequest(\n\u001b[0;32m    241\u001b[0m     method, url, headers\u001b[38;5;241m=\u001b[39mheaders, proxies\u001b[38;5;241m=\u001b[39m\u001b[38;5;28mself\u001b[39m\u001b[38;5;241m.\u001b[39mproxies,\n\u001b[0;32m    242\u001b[0m     timeout\u001b[38;5;241m=\u001b[39m\u001b[38;5;28mself\u001b[39m\u001b[38;5;241m.\u001b[39mrequests_timeout, \u001b[38;5;241m*\u001b[39m\u001b[38;5;241m*\u001b[39margs\n\u001b[0;32m    243\u001b[0m )\n\u001b[1;32m--> 245\u001b[0m \u001b[43mresponse\u001b[49m\u001b[38;5;241;43m.\u001b[39;49m\u001b[43mraise_for_status\u001b[49m\u001b[43m(\u001b[49m\u001b[43m)\u001b[49m\n\u001b[0;32m    246\u001b[0m results \u001b[38;5;241m=\u001b[39m response\u001b[38;5;241m.\u001b[39mjson()\n",
      "File \u001b[1;32m~\\anaconda3\\envs\\mydataprojects\\Lib\\site-packages\\requests\\models.py:1021\u001b[0m, in \u001b[0;36mResponse.raise_for_status\u001b[1;34m(self)\u001b[0m\n\u001b[0;32m   1020\u001b[0m \u001b[38;5;28;01mif\u001b[39;00m http_error_msg:\n\u001b[1;32m-> 1021\u001b[0m     \u001b[38;5;28;01mraise\u001b[39;00m HTTPError(http_error_msg, response\u001b[38;5;241m=\u001b[39m\u001b[38;5;28mself\u001b[39m)\n",
      "\u001b[1;31mHTTPError\u001b[0m: 401 Client Error: Unauthorized for url: https://api.spotify.com/v1/me/",
      "\nDuring handling of the above exception, another exception occurred:\n",
      "\u001b[1;31mSpotifyException\u001b[0m                          Traceback (most recent call last)",
      "Cell \u001b[1;32mIn [595], line 1\u001b[0m\n\u001b[1;32m----> 1\u001b[0m \u001b[43msp\u001b[49m\u001b[38;5;241;43m.\u001b[39;49m\u001b[43mcurrent_user\u001b[49m\u001b[43m(\u001b[49m\u001b[43m)\u001b[49m\n",
      "File \u001b[1;32m~\\anaconda3\\envs\\mydataprojects\\Lib\\site-packages\\spotipy\\client.py:1182\u001b[0m, in \u001b[0;36mSpotify.current_user\u001b[1;34m(self)\u001b[0m\n\u001b[0;32m   1178\u001b[0m \u001b[38;5;28;01mdef\u001b[39;00m \u001b[38;5;21mcurrent_user\u001b[39m(\u001b[38;5;28mself\u001b[39m):\n\u001b[0;32m   1179\u001b[0m     \u001b[38;5;124;03m\"\"\" Get detailed profile information about the current user.\u001b[39;00m\n\u001b[0;32m   1180\u001b[0m \u001b[38;5;124;03m        An alias for the 'me' method.\u001b[39;00m\n\u001b[0;32m   1181\u001b[0m \u001b[38;5;124;03m    \"\"\"\u001b[39;00m\n\u001b[1;32m-> 1182\u001b[0m     \u001b[38;5;28;01mreturn\u001b[39;00m \u001b[38;5;28;43mself\u001b[39;49m\u001b[38;5;241;43m.\u001b[39;49m\u001b[43mme\u001b[49m\u001b[43m(\u001b[49m\u001b[43m)\u001b[49m\n",
      "File \u001b[1;32m~\\anaconda3\\envs\\mydataprojects\\Lib\\site-packages\\spotipy\\client.py:1176\u001b[0m, in \u001b[0;36mSpotify.me\u001b[1;34m(self)\u001b[0m\n\u001b[0;32m   1172\u001b[0m \u001b[38;5;28;01mdef\u001b[39;00m \u001b[38;5;21mme\u001b[39m(\u001b[38;5;28mself\u001b[39m):\n\u001b[0;32m   1173\u001b[0m     \u001b[38;5;124;03m\"\"\" Get detailed profile information about the current user.\u001b[39;00m\n\u001b[0;32m   1174\u001b[0m \u001b[38;5;124;03m        An alias for the 'current_user' method.\u001b[39;00m\n\u001b[0;32m   1175\u001b[0m \u001b[38;5;124;03m    \"\"\"\u001b[39;00m\n\u001b[1;32m-> 1176\u001b[0m     \u001b[38;5;28;01mreturn\u001b[39;00m \u001b[38;5;28;43mself\u001b[39;49m\u001b[38;5;241;43m.\u001b[39;49m\u001b[43m_get\u001b[49m\u001b[43m(\u001b[49m\u001b[38;5;124;43m\"\u001b[39;49m\u001b[38;5;124;43mme/\u001b[39;49m\u001b[38;5;124;43m\"\u001b[39;49m\u001b[43m)\u001b[49m\n",
      "File \u001b[1;32m~\\anaconda3\\envs\\mydataprojects\\Lib\\site-packages\\spotipy\\client.py:297\u001b[0m, in \u001b[0;36mSpotify._get\u001b[1;34m(self, url, args, payload, **kwargs)\u001b[0m\n\u001b[0;32m    294\u001b[0m \u001b[38;5;28;01mif\u001b[39;00m args:\n\u001b[0;32m    295\u001b[0m     kwargs\u001b[38;5;241m.\u001b[39mupdate(args)\n\u001b[1;32m--> 297\u001b[0m \u001b[38;5;28;01mreturn\u001b[39;00m \u001b[38;5;28;43mself\u001b[39;49m\u001b[38;5;241;43m.\u001b[39;49m\u001b[43m_internal_call\u001b[49m\u001b[43m(\u001b[49m\u001b[38;5;124;43m\"\u001b[39;49m\u001b[38;5;124;43mGET\u001b[39;49m\u001b[38;5;124;43m\"\u001b[39;49m\u001b[43m,\u001b[49m\u001b[43m \u001b[49m\u001b[43murl\u001b[49m\u001b[43m,\u001b[49m\u001b[43m \u001b[49m\u001b[43mpayload\u001b[49m\u001b[43m,\u001b[49m\u001b[43m \u001b[49m\u001b[43mkwargs\u001b[49m\u001b[43m)\u001b[49m\n",
      "File \u001b[1;32m~\\anaconda3\\envs\\mydataprojects\\Lib\\site-packages\\spotipy\\client.py:267\u001b[0m, in \u001b[0;36mSpotify._internal_call\u001b[1;34m(self, method, url, payload, params)\u001b[0m\n\u001b[0;32m    260\u001b[0m         reason \u001b[38;5;241m=\u001b[39m \u001b[38;5;28;01mNone\u001b[39;00m\n\u001b[0;32m    262\u001b[0m     logger\u001b[38;5;241m.\u001b[39merror(\n\u001b[0;32m    263\u001b[0m         \u001b[38;5;124m'\u001b[39m\u001b[38;5;124mHTTP Error for \u001b[39m\u001b[38;5;132;01m%s\u001b[39;00m\u001b[38;5;124m to \u001b[39m\u001b[38;5;132;01m%s\u001b[39;00m\u001b[38;5;124m with Params: \u001b[39m\u001b[38;5;132;01m%s\u001b[39;00m\u001b[38;5;124m returned \u001b[39m\u001b[38;5;132;01m%s\u001b[39;00m\u001b[38;5;124m due to \u001b[39m\u001b[38;5;132;01m%s\u001b[39;00m\u001b[38;5;124m'\u001b[39m,\n\u001b[0;32m    264\u001b[0m         method, url, args\u001b[38;5;241m.\u001b[39mget(\u001b[38;5;124m\"\u001b[39m\u001b[38;5;124mparams\u001b[39m\u001b[38;5;124m\"\u001b[39m), response\u001b[38;5;241m.\u001b[39mstatus_code, msg\n\u001b[0;32m    265\u001b[0m     )\n\u001b[1;32m--> 267\u001b[0m     \u001b[38;5;28;01mraise\u001b[39;00m SpotifyException(\n\u001b[0;32m    268\u001b[0m         response\u001b[38;5;241m.\u001b[39mstatus_code,\n\u001b[0;32m    269\u001b[0m         \u001b[38;5;241m-\u001b[39m\u001b[38;5;241m1\u001b[39m,\n\u001b[0;32m    270\u001b[0m         \u001b[38;5;124m\"\u001b[39m\u001b[38;5;132;01m%s\u001b[39;00m\u001b[38;5;124m:\u001b[39m\u001b[38;5;130;01m\\n\u001b[39;00m\u001b[38;5;124m \u001b[39m\u001b[38;5;132;01m%s\u001b[39;00m\u001b[38;5;124m\"\u001b[39m \u001b[38;5;241m%\u001b[39m (response\u001b[38;5;241m.\u001b[39murl, msg),\n\u001b[0;32m    271\u001b[0m         reason\u001b[38;5;241m=\u001b[39mreason,\n\u001b[0;32m    272\u001b[0m         headers\u001b[38;5;241m=\u001b[39mresponse\u001b[38;5;241m.\u001b[39mheaders,\n\u001b[0;32m    273\u001b[0m     )\n\u001b[0;32m    274\u001b[0m \u001b[38;5;28;01mexcept\u001b[39;00m requests\u001b[38;5;241m.\u001b[39mexceptions\u001b[38;5;241m.\u001b[39mRetryError \u001b[38;5;28;01mas\u001b[39;00m retry_error:\n\u001b[0;32m    275\u001b[0m     request \u001b[38;5;241m=\u001b[39m retry_error\u001b[38;5;241m.\u001b[39mrequest\n",
      "\u001b[1;31mSpotifyException\u001b[0m: http status: 401, code:-1 - https://api.spotify.com/v1/me/:\n Unauthorized., reason: None"
     ]
    }
   ],
   "source": [
    "sp.current_user()"
   ]
  },
  {
   "cell_type": "markdown",
   "metadata": {},
   "source": [
    "### Returning names of related artiststs"
   ]
  },
  {
   "cell_type": "code",
   "execution_count": null,
   "metadata": {},
   "outputs": [],
   "source": [
    "def get_related_artists(artist_id):\n",
    "    results = sp.artist_related_artists(artist_id)\n",
    "    artists = results['artists']\n",
    "    while results['next']:\n",
    "        results = sp.next(results)\n",
    "        tracks.extend(results['items'])\n",
    "        artists_id = [item['track']['artists'][0]['id'] for item in tracks]\n",
    "    return artists_id"
   ]
  },
  {
   "cell_type": "code",
   "execution_count": 64,
   "metadata": {},
   "outputs": [],
   "source": [
    "related_artists = sp.artist_related_artists('2hazSY4Ef3aB9ATXW7F5w3')"
   ]
  },
  {
   "cell_type": "code",
   "execution_count": 206,
   "metadata": {},
   "outputs": [],
   "source": [
    "def related_artists_id(artists_id_list):\n",
    "    # for artist_id in artist_id_list:\n",
    "    related_artists = []\n",
    "    related_artists_id = []\n",
    "    \n",
    "    for artist_id in artists_id_list: \n",
    "        related_artists.append(sp.artist_related_artists(artist_id))\n",
    "    \n",
    "    for n_1 in range(0, len(related_artists)):\n",
    "        for n_2 in range(0, len(related_artists[n_1]['artists'])):\n",
    "            if related_artists[n_1]['artists'][n_2]['name'] not in related_artists_id: \n",
    "                related_artists_id.append(related_artists[n_1]['artists'][n_2]['id'])\n",
    "            else: \n",
    "                pass\n",
    "            \n",
    "            \n",
    "    return related_artists_id\n",
    "        \n",
    "  #  return len(related_artists) # related_artists_id\n",
    "                "
   ]
  },
  {
   "cell_type": "code",
   "execution_count": 207,
   "metadata": {},
   "outputs": [],
   "source": [
    "related_artists_id = related_artists_id(artist_id)"
   ]
  },
  {
   "cell_type": "code",
   "execution_count": 208,
   "metadata": {},
   "outputs": [],
   "source": [
    "related_test = related_artists_id[0:5]"
   ]
  },
  {
   "cell_type": "code",
   "execution_count": 209,
   "metadata": {},
   "outputs": [
    {
     "data": {
      "text/plain": [
       "['3qUrABCNqnkb5gc2YmPVzP',\n",
       " '61C3cEhdoJ9YiQSQSwYB4K',\n",
       " '1uvhwixGrZkuT2gpQQWgYb',\n",
       " '1ysmkH7bwM193VEqdtwgfn',\n",
       " '7uLePkJ2f0MwEcphODfkuu']"
      ]
     },
     "execution_count": 209,
     "metadata": {},
     "output_type": "execute_result"
    }
   ],
   "source": [
    "related_test"
   ]
  },
  {
   "cell_type": "markdown",
   "metadata": {},
   "source": [
    "### Extract top songs of each artists"
   ]
  }
 ],
 "metadata": {
  "kernelspec": {
   "display_name": "Python 3 (ipykernel)",
   "language": "python",
   "name": "python3"
  },
  "language_info": {
   "codemirror_mode": {
    "name": "ipython",
    "version": 3
   },
   "file_extension": ".py",
   "mimetype": "text/x-python",
   "name": "python",
   "nbconvert_exporter": "python",
   "pygments_lexer": "ipython3",
   "version": "3.11.0"
  }
 },
 "nbformat": 4,
 "nbformat_minor": 4
}
